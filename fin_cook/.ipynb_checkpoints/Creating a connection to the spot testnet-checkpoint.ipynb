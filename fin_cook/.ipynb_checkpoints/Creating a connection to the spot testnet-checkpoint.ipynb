{
 "cells": [
  {
   "cell_type": "code",
   "execution_count": 6,
   "id": "d2587f8c",
   "metadata": {},
   "outputs": [
    {
     "ename": "ImportError",
     "evalue": "cannot import name 'Client' from 'binance' (/Users/laurenceadams/opt/anaconda3/lib/python3.9/site-packages/binance.py)",
     "output_type": "error",
     "traceback": [
      "\u001b[0;31m---------------------------------------------------------------------------\u001b[0m",
      "\u001b[0;31mImportError\u001b[0m                               Traceback (most recent call last)",
      "\u001b[0;32m/var/folders/4q/nk9k0m5s1vs5fyrh6cr6nnpw0000gn/T/ipykernel_81949/4148189861.py\u001b[0m in \u001b[0;36m<module>\u001b[0;34m\u001b[0m\n\u001b[1;32m      1\u001b[0m \u001b[0;32mimport\u001b[0m \u001b[0mjson\u001b[0m\u001b[0;34m\u001b[0m\u001b[0;34m\u001b[0m\u001b[0m\n\u001b[0;32m----> 2\u001b[0;31m \u001b[0;32mfrom\u001b[0m \u001b[0mbinance\u001b[0m \u001b[0;32mimport\u001b[0m \u001b[0mClient\u001b[0m\u001b[0;34m\u001b[0m\u001b[0;34m\u001b[0m\u001b[0m\n\u001b[0m\u001b[1;32m      3\u001b[0m \u001b[0;32mimport\u001b[0m \u001b[0mpandas\u001b[0m \u001b[0;32mas\u001b[0m \u001b[0mpd\u001b[0m\u001b[0;34m\u001b[0m\u001b[0;34m\u001b[0m\u001b[0m\n",
      "\u001b[0;31mImportError\u001b[0m: cannot import name 'Client' from 'binance' (/Users/laurenceadams/opt/anaconda3/lib/python3.9/site-packages/binance.py)"
     ]
    }
   ],
   "source": [
    "import json\n",
    "from binance import Client\n",
    "import pandas as pd"
   ]
  },
  {
   "cell_type": "code",
   "execution_count": 3,
   "id": "2d55de32",
   "metadata": {},
   "outputs": [],
   "source": [
    "def get_api_essentals(data):\n",
    "    return data['spot_api_key'], data['spot_api_secret']\n",
    "\n",
    "\n",
    "with open('./settings.json', 'r') as file:\n",
    "    data = json.load(file)\n",
    "\n",
    "api_key, api_secret = get_api_essentals(data)\n"
   ]
  },
  {
   "cell_type": "code",
   "execution_count": 4,
   "id": "7bb0c1b9",
   "metadata": {},
   "outputs": [
    {
     "ename": "NameError",
     "evalue": "name 'Client' is not defined",
     "output_type": "error",
     "traceback": [
      "\u001b[0;31m---------------------------------------------------------------------------\u001b[0m",
      "\u001b[0;31mNameError\u001b[0m                                 Traceback (most recent call last)",
      "\u001b[0;32m/var/folders/4q/nk9k0m5s1vs5fyrh6cr6nnpw0000gn/T/ipykernel_81949/994992036.py\u001b[0m in \u001b[0;36m<module>\u001b[0;34m\u001b[0m\n\u001b[0;32m----> 1\u001b[0;31m \u001b[0mclient\u001b[0m \u001b[0;34m=\u001b[0m \u001b[0mClient\u001b[0m\u001b[0;34m(\u001b[0m\u001b[0mapi_key\u001b[0m\u001b[0;34m=\u001b[0m\u001b[0mapi_key\u001b[0m\u001b[0;34m,\u001b[0m \u001b[0mapi_secret\u001b[0m\u001b[0;34m=\u001b[0m\u001b[0mapi_secret\u001b[0m\u001b[0;34m,\u001b[0m \u001b[0mtld\u001b[0m\u001b[0;34m=\u001b[0m\u001b[0;34m\"us\"\u001b[0m\u001b[0;34m,\u001b[0m \u001b[0mtestnet\u001b[0m \u001b[0;34m=\u001b[0m \u001b[0;32mTrue\u001b[0m\u001b[0;34m)\u001b[0m\u001b[0;34m\u001b[0m\u001b[0;34m\u001b[0m\u001b[0m\n\u001b[0m",
      "\u001b[0;31mNameError\u001b[0m: name 'Client' is not defined"
     ]
    }
   ],
   "source": [
    "client = Client(api_key=api_key, api_secret=api_secret, tld=\"us\", testnet = True)"
   ]
  },
  {
   "cell_type": "code",
   "execution_count": 5,
   "id": "7aa26869",
   "metadata": {},
   "outputs": [
    {
     "ename": "NameError",
     "evalue": "name 'client' is not defined",
     "output_type": "error",
     "traceback": [
      "\u001b[0;31m---------------------------------------------------------------------------\u001b[0m",
      "\u001b[0;31mNameError\u001b[0m                                 Traceback (most recent call last)",
      "\u001b[0;32m/var/folders/4q/nk9k0m5s1vs5fyrh6cr6nnpw0000gn/T/ipykernel_81949/127258748.py\u001b[0m in \u001b[0;36m<module>\u001b[0;34m\u001b[0m\n\u001b[0;32m----> 1\u001b[0;31m \u001b[0maccount\u001b[0m \u001b[0;34m=\u001b[0m \u001b[0mclient\u001b[0m\u001b[0;34m.\u001b[0m\u001b[0mget_account\u001b[0m\u001b[0;34m(\u001b[0m\u001b[0;34m)\u001b[0m\u001b[0;34m\u001b[0m\u001b[0;34m\u001b[0m\u001b[0m\n\u001b[0m\u001b[1;32m      2\u001b[0m \u001b[0maccount\u001b[0m\u001b[0;34m\u001b[0m\u001b[0;34m\u001b[0m\u001b[0m\n",
      "\u001b[0;31mNameError\u001b[0m: name 'client' is not defined"
     ]
    }
   ],
   "source": [
    "account = client.get_account()\n",
    "account"
   ]
  },
  {
   "cell_type": "code",
   "execution_count": 43,
   "id": "658b5bbd",
   "metadata": {},
   "outputs": [
    {
     "data": {
      "text/plain": [
       "{'asset': 'ETH', 'free': '100.00000000', 'locked': '0.00000000'}"
      ]
     },
     "execution_count": 43,
     "metadata": {},
     "output_type": "execute_result"
    }
   ],
   "source": [
    "client.get_asset_balance(asset = \"ETH\")"
   ]
  },
  {
   "cell_type": "code",
   "execution_count": 44,
   "id": "3b1f2836",
   "metadata": {},
   "outputs": [
    {
     "data": {
      "text/plain": [
       "{'symbol': 'BTCUSDT', 'price': '23542.68000000'}"
      ]
     },
     "execution_count": 44,
     "metadata": {},
     "output_type": "execute_result"
    }
   ],
   "source": [
    "client.get_symbol_ticker(symbol=\"BTCUSDT\")"
   ]
  },
  {
   "cell_type": "code",
   "execution_count": 45,
   "id": "792dc459",
   "metadata": {},
   "outputs": [
    {
     "data": {
      "text/plain": [
       "1675296000000"
      ]
     },
     "execution_count": 45,
     "metadata": {},
     "output_type": "execute_result"
    }
   ],
   "source": [
    "timestamp = client._get_earliest_valid_timestamp(symbol=\"BTCUSDT\", interval = \"1d\")\n",
    "timestamp"
   ]
  },
  {
   "cell_type": "code",
   "execution_count": 46,
   "id": "3a7a6d60",
   "metadata": {},
   "outputs": [
    {
     "data": {
      "text/plain": [
       "Timestamp('2023-02-02 00:00:00')"
      ]
     },
     "execution_count": 46,
     "metadata": {},
     "output_type": "execute_result"
    }
   ],
   "source": [
    "pd.to_datetime(timestamp, unit = \"ms\") "
   ]
  },
  {
   "cell_type": "code",
   "execution_count": 47,
   "id": "8f1fae92",
   "metadata": {},
   "outputs": [],
   "source": [
    "def get_history(symbol, interval, start, end = None):\n",
    "    bars = client.get_historical_klines(symbol=symbol, interval = interval, start_str=start, end_str = end, limit=1000)\n",
    "    \n",
    "    df = pd.DataFrame(bars)\n",
    "    df[\"Date\"] = pd.to_datetime(df.iloc[:,0], unit = \"ms\")\n",
    "    df.columns = [\n",
    "    \"Open Time\",\n",
    "    \"Open\",\n",
    "    \"High\",\n",
    "    \"Low\",\n",
    "    \"Close\",\n",
    "    \"Volume\",\n",
    "    \"Close Time\",\n",
    "    \"Quote Asset Volume\",\n",
    "    \"Number of Trades\",\n",
    "    \"Taker Buy Base Asset Volume\",\n",
    "    \"Taker Buy Quote Asset Volume\",\n",
    "    \"Ignore\",\n",
    "    \"Date\"]\n",
    "    \n",
    "    df = df[[\"Date\", \"Open\", \"High\", \"Low\", \"Close\", \"Volume\"]].copy()\n",
    "    df.set_index(\"Date\", inplace=True)\n",
    "    for column in df.columns:\n",
    "        df[column] = pd.to_numeric(df[column], errors = \"coerce\")\n",
    "\n",
    "    return df"
   ]
  },
  {
   "cell_type": "code",
   "execution_count": 48,
   "id": "0d18f3ba",
   "metadata": {},
   "outputs": [
    {
     "data": {
      "text/html": [
       "<div>\n",
       "<style scoped>\n",
       "    .dataframe tbody tr th:only-of-type {\n",
       "        vertical-align: middle;\n",
       "    }\n",
       "\n",
       "    .dataframe tbody tr th {\n",
       "        vertical-align: top;\n",
       "    }\n",
       "\n",
       "    .dataframe thead th {\n",
       "        text-align: right;\n",
       "    }\n",
       "</style>\n",
       "<table border=\"1\" class=\"dataframe\">\n",
       "  <thead>\n",
       "    <tr style=\"text-align: right;\">\n",
       "      <th></th>\n",
       "      <th>Open</th>\n",
       "      <th>High</th>\n",
       "      <th>Low</th>\n",
       "      <th>Close</th>\n",
       "      <th>Volume</th>\n",
       "    </tr>\n",
       "    <tr>\n",
       "      <th>Date</th>\n",
       "      <th></th>\n",
       "      <th></th>\n",
       "      <th></th>\n",
       "      <th></th>\n",
       "      <th></th>\n",
       "    </tr>\n",
       "  </thead>\n",
       "  <tbody>\n",
       "    <tr>\n",
       "      <th>2023-02-02</th>\n",
       "      <td>23773.26</td>\n",
       "      <td>26069.80</td>\n",
       "      <td>10000.10</td>\n",
       "      <td>23489.36</td>\n",
       "      <td>4233.813126</td>\n",
       "    </tr>\n",
       "    <tr>\n",
       "      <th>2023-02-03</th>\n",
       "      <td>23489.36</td>\n",
       "      <td>23712.52</td>\n",
       "      <td>10000.96</td>\n",
       "      <td>23431.02</td>\n",
       "      <td>7034.526099</td>\n",
       "    </tr>\n",
       "    <tr>\n",
       "      <th>2023-02-04</th>\n",
       "      <td>23430.89</td>\n",
       "      <td>23680.20</td>\n",
       "      <td>9000.00</td>\n",
       "      <td>23327.63</td>\n",
       "      <td>5976.409341</td>\n",
       "    </tr>\n",
       "    <tr>\n",
       "      <th>2023-02-05</th>\n",
       "      <td>23326.64</td>\n",
       "      <td>23985.38</td>\n",
       "      <td>8000.00</td>\n",
       "      <td>22931.15</td>\n",
       "      <td>7004.467796</td>\n",
       "    </tr>\n",
       "    <tr>\n",
       "      <th>2023-02-06</th>\n",
       "      <td>22931.47</td>\n",
       "      <td>23741.82</td>\n",
       "      <td>21945.30</td>\n",
       "      <td>22761.49</td>\n",
       "      <td>7510.778777</td>\n",
       "    </tr>\n",
       "    <tr>\n",
       "      <th>2023-02-07</th>\n",
       "      <td>22761.84</td>\n",
       "      <td>23344.76</td>\n",
       "      <td>22547.87</td>\n",
       "      <td>23246.02</td>\n",
       "      <td>7576.433034</td>\n",
       "    </tr>\n",
       "    <tr>\n",
       "      <th>2023-02-08</th>\n",
       "      <td>23241.99</td>\n",
       "      <td>23434.01</td>\n",
       "      <td>9500.00</td>\n",
       "      <td>22961.16</td>\n",
       "      <td>7591.841148</td>\n",
       "    </tr>\n",
       "    <tr>\n",
       "      <th>2023-02-09</th>\n",
       "      <td>22962.92</td>\n",
       "      <td>23300.26</td>\n",
       "      <td>4531.18</td>\n",
       "      <td>21796.06</td>\n",
       "      <td>8673.789760</td>\n",
       "    </tr>\n",
       "    <tr>\n",
       "      <th>2023-02-10</th>\n",
       "      <td>21796.06</td>\n",
       "      <td>21937.22</td>\n",
       "      <td>10000.00</td>\n",
       "      <td>21627.41</td>\n",
       "      <td>7570.521127</td>\n",
       "    </tr>\n",
       "    <tr>\n",
       "      <th>2023-02-11</th>\n",
       "      <td>21629.65</td>\n",
       "      <td>22176.72</td>\n",
       "      <td>10000.00</td>\n",
       "      <td>21862.69</td>\n",
       "      <td>6211.922540</td>\n",
       "    </tr>\n",
       "    <tr>\n",
       "      <th>2023-02-12</th>\n",
       "      <td>21862.01</td>\n",
       "      <td>55000.00</td>\n",
       "      <td>9000.00</td>\n",
       "      <td>21782.93</td>\n",
       "      <td>6839.506642</td>\n",
       "    </tr>\n",
       "    <tr>\n",
       "      <th>2023-02-13</th>\n",
       "      <td>21783.03</td>\n",
       "      <td>113464.30</td>\n",
       "      <td>4324.46</td>\n",
       "      <td>21774.93</td>\n",
       "      <td>9053.618783</td>\n",
       "    </tr>\n",
       "    <tr>\n",
       "      <th>2023-02-14</th>\n",
       "      <td>21774.56</td>\n",
       "      <td>80000.00</td>\n",
       "      <td>8336.07</td>\n",
       "      <td>22200.66</td>\n",
       "      <td>7600.067940</td>\n",
       "    </tr>\n",
       "    <tr>\n",
       "      <th>2023-02-15</th>\n",
       "      <td>22200.66</td>\n",
       "      <td>90000.00</td>\n",
       "      <td>21076.87</td>\n",
       "      <td>24324.20</td>\n",
       "      <td>7610.280247</td>\n",
       "    </tr>\n",
       "    <tr>\n",
       "      <th>2023-02-16</th>\n",
       "      <td>24323.63</td>\n",
       "      <td>25385.37</td>\n",
       "      <td>23512.99</td>\n",
       "      <td>23515.84</td>\n",
       "      <td>7868.023587</td>\n",
       "    </tr>\n",
       "    <tr>\n",
       "      <th>2023-02-17</th>\n",
       "      <td>23515.38</td>\n",
       "      <td>25014.13</td>\n",
       "      <td>23312.61</td>\n",
       "      <td>24575.01</td>\n",
       "      <td>8242.298497</td>\n",
       "    </tr>\n",
       "    <tr>\n",
       "      <th>2023-02-18</th>\n",
       "      <td>24572.89</td>\n",
       "      <td>24877.72</td>\n",
       "      <td>24339.20</td>\n",
       "      <td>24632.52</td>\n",
       "      <td>6693.668190</td>\n",
       "    </tr>\n",
       "    <tr>\n",
       "      <th>2023-02-19</th>\n",
       "      <td>24632.26</td>\n",
       "      <td>90000.00</td>\n",
       "      <td>23863.87</td>\n",
       "      <td>24276.63</td>\n",
       "      <td>7128.106640</td>\n",
       "    </tr>\n",
       "    <tr>\n",
       "      <th>2023-02-20</th>\n",
       "      <td>24276.63</td>\n",
       "      <td>25675.23</td>\n",
       "      <td>21596.35</td>\n",
       "      <td>24842.19</td>\n",
       "      <td>9601.203670</td>\n",
       "    </tr>\n",
       "    <tr>\n",
       "      <th>2023-02-21</th>\n",
       "      <td>24843.26</td>\n",
       "      <td>50000.00</td>\n",
       "      <td>9000.00</td>\n",
       "      <td>24451.32</td>\n",
       "      <td>9500.401385</td>\n",
       "    </tr>\n",
       "    <tr>\n",
       "      <th>2023-02-22</th>\n",
       "      <td>24450.04</td>\n",
       "      <td>24997.82</td>\n",
       "      <td>9000.00</td>\n",
       "      <td>24182.53</td>\n",
       "      <td>8890.682096</td>\n",
       "    </tr>\n",
       "    <tr>\n",
       "      <th>2023-02-23</th>\n",
       "      <td>24183.02</td>\n",
       "      <td>25435.65</td>\n",
       "      <td>9000.00</td>\n",
       "      <td>23940.53</td>\n",
       "      <td>8770.084233</td>\n",
       "    </tr>\n",
       "    <tr>\n",
       "      <th>2023-02-24</th>\n",
       "      <td>23940.57</td>\n",
       "      <td>25070.89</td>\n",
       "      <td>22795.22</td>\n",
       "      <td>23185.12</td>\n",
       "      <td>9005.869431</td>\n",
       "    </tr>\n",
       "    <tr>\n",
       "      <th>2023-02-25</th>\n",
       "      <td>23185.28</td>\n",
       "      <td>23484.30</td>\n",
       "      <td>9000.00</td>\n",
       "      <td>23157.06</td>\n",
       "      <td>8652.071709</td>\n",
       "    </tr>\n",
       "    <tr>\n",
       "      <th>2023-02-26</th>\n",
       "      <td>23156.69</td>\n",
       "      <td>25574.24</td>\n",
       "      <td>9000.00</td>\n",
       "      <td>23541.19</td>\n",
       "      <td>6054.132193</td>\n",
       "    </tr>\n",
       "  </tbody>\n",
       "</table>\n",
       "</div>"
      ],
      "text/plain": [
       "                Open       High       Low     Close       Volume\n",
       "Date                                                            \n",
       "2023-02-02  23773.26   26069.80  10000.10  23489.36  4233.813126\n",
       "2023-02-03  23489.36   23712.52  10000.96  23431.02  7034.526099\n",
       "2023-02-04  23430.89   23680.20   9000.00  23327.63  5976.409341\n",
       "2023-02-05  23326.64   23985.38   8000.00  22931.15  7004.467796\n",
       "2023-02-06  22931.47   23741.82  21945.30  22761.49  7510.778777\n",
       "2023-02-07  22761.84   23344.76  22547.87  23246.02  7576.433034\n",
       "2023-02-08  23241.99   23434.01   9500.00  22961.16  7591.841148\n",
       "2023-02-09  22962.92   23300.26   4531.18  21796.06  8673.789760\n",
       "2023-02-10  21796.06   21937.22  10000.00  21627.41  7570.521127\n",
       "2023-02-11  21629.65   22176.72  10000.00  21862.69  6211.922540\n",
       "2023-02-12  21862.01   55000.00   9000.00  21782.93  6839.506642\n",
       "2023-02-13  21783.03  113464.30   4324.46  21774.93  9053.618783\n",
       "2023-02-14  21774.56   80000.00   8336.07  22200.66  7600.067940\n",
       "2023-02-15  22200.66   90000.00  21076.87  24324.20  7610.280247\n",
       "2023-02-16  24323.63   25385.37  23512.99  23515.84  7868.023587\n",
       "2023-02-17  23515.38   25014.13  23312.61  24575.01  8242.298497\n",
       "2023-02-18  24572.89   24877.72  24339.20  24632.52  6693.668190\n",
       "2023-02-19  24632.26   90000.00  23863.87  24276.63  7128.106640\n",
       "2023-02-20  24276.63   25675.23  21596.35  24842.19  9601.203670\n",
       "2023-02-21  24843.26   50000.00   9000.00  24451.32  9500.401385\n",
       "2023-02-22  24450.04   24997.82   9000.00  24182.53  8890.682096\n",
       "2023-02-23  24183.02   25435.65   9000.00  23940.53  8770.084233\n",
       "2023-02-24  23940.57   25070.89  22795.22  23185.12  9005.869431\n",
       "2023-02-25  23185.28   23484.30   9000.00  23157.06  8652.071709\n",
       "2023-02-26  23156.69   25574.24   9000.00  23541.19  6054.132193"
      ]
     },
     "execution_count": 48,
     "metadata": {},
     "output_type": "execute_result"
    }
   ],
   "source": [
    "get_history(symbol=\"BTCUSDT\", interval=\"1d\", start=timestamp)"
   ]
  },
  {
   "cell_type": "code",
   "execution_count": 49,
   "id": "ba865f29",
   "metadata": {},
   "outputs": [],
   "source": [
    "from binance import ThreadedWebsocketManager"
   ]
  },
  {
   "cell_type": "code",
   "execution_count": 50,
   "id": "d07e9d8b",
   "metadata": {},
   "outputs": [],
   "source": [
    "def stream_data(msg):\n",
    "    ''' define how to process incoming websocket messages'''\n",
    "    time = pd.to_datetime(msg['E'], unit = 'ms')\n",
    "    price = msg['c']\n",
    "    print(f\"Time: {time} | price: {price}\")"
   ]
  },
  {
   "cell_type": "code",
   "execution_count": 1,
   "id": "879cbbcb",
   "metadata": {},
   "outputs": [
    {
     "ename": "NameError",
     "evalue": "name 'ThreadedWebsocketManager' is not defined",
     "output_type": "error",
     "traceback": [
      "\u001b[0;31m---------------------------------------------------------------------------\u001b[0m",
      "\u001b[0;31mNameError\u001b[0m                                 Traceback (most recent call last)",
      "\u001b[0;32m/var/folders/4q/nk9k0m5s1vs5fyrh6cr6nnpw0000gn/T/ipykernel_81949/4131148329.py\u001b[0m in \u001b[0;36m<module>\u001b[0;34m\u001b[0m\n\u001b[0;32m----> 1\u001b[0;31m \u001b[0mtwm\u001b[0m \u001b[0;34m=\u001b[0m \u001b[0mThreadedWebsocketManager\u001b[0m\u001b[0;34m(\u001b[0m\u001b[0;34m)\u001b[0m\u001b[0;34m\u001b[0m\u001b[0;34m\u001b[0m\u001b[0m\n\u001b[0m\u001b[1;32m      2\u001b[0m \u001b[0mtwm\u001b[0m\u001b[0;34m.\u001b[0m\u001b[0mstart\u001b[0m\u001b[0;34m(\u001b[0m\u001b[0;34m)\u001b[0m\u001b[0;34m\u001b[0m\u001b[0;34m\u001b[0m\u001b[0m\n",
      "\u001b[0;31mNameError\u001b[0m: name 'ThreadedWebsocketManager' is not defined"
     ]
    }
   ],
   "source": [
    "twm = ThreadedWebsocketManager()\n",
    "twm.start()"
   ]
  },
  {
   "cell_type": "code",
   "execution_count": null,
   "id": "7f745e03",
   "metadata": {},
   "outputs": [],
   "source": [
    "twm.start_symbol_miniticker_socket(callback = stream_data, symbol = \"BTCUSDT\")"
   ]
  },
  {
   "cell_type": "code",
   "execution_count": null,
   "id": "d210e086",
   "metadata": {},
   "outputs": [],
   "source": [
    "twm.stop()"
   ]
  },
  {
   "cell_type": "code",
   "execution_count": null,
   "id": "c2636f7b",
   "metadata": {},
   "outputs": [],
   "source": []
  }
 ],
 "metadata": {
  "kernelspec": {
   "display_name": "Python 3 (ipykernel)",
   "language": "python",
   "name": "python3"
  },
  "language_info": {
   "codemirror_mode": {
    "name": "ipython",
    "version": 3
   },
   "file_extension": ".py",
   "mimetype": "text/x-python",
   "name": "python",
   "nbconvert_exporter": "python",
   "pygments_lexer": "ipython3",
   "version": "3.9.13"
  }
 },
 "nbformat": 4,
 "nbformat_minor": 5
}
