{
 "cells": [
  {
   "cell_type": "code",
   "execution_count": 4,
   "id": "43c55bed",
   "metadata": {},
   "outputs": [],
   "source": [
    "import json\n",
    "from binance import Client\n",
    "import pandas as pd"
   ]
  },
  {
   "cell_type": "code",
   "execution_count": 19,
   "id": "e06e8218",
   "metadata": {},
   "outputs": [
    {
     "data": {
      "text/plain": [
       "{}"
      ]
     },
     "execution_count": 19,
     "metadata": {},
     "output_type": "execute_result"
    }
   ],
   "source": [
    "def get_api_essentals(data):\n",
    "    return data['api_key'], data['api_secret']\n",
    "\n",
    "\n",
    "with open('./settings.json', 'r') as file:\n",
    "    data = json.load(file)\n",
    "\n",
    "api_key, api_secret = get_api_essentals(data)\n",
    "\n",
    "client.create_test_order(symbol=\"BTCUSDT\", \n",
    "                         side=\"BUY\", \n",
    "                         type = \"MARKET\", \n",
    "                         quantity = 0.1)"
   ]
  },
  {
   "cell_type": "code",
   "execution_count": 22,
   "id": "8472e967",
   "metadata": {},
   "outputs": [],
   "source": [
    "# place a test market buy order, to place an actual order use the create_order function\n",
    "order = client.create_test_order(symbol=\"BTCUSDT\",\n",
    "                         side=\"BUY\",\n",
    "                         type = \"MARKET\",\n",
    "                         quantity = 1.0)"
   ]
  },
  {
   "cell_type": "code",
   "execution_count": 23,
   "id": "b1406127",
   "metadata": {},
   "outputs": [
    {
     "data": {
      "text/plain": [
       "{}"
      ]
     },
     "execution_count": 23,
     "metadata": {},
     "output_type": "execute_result"
    }
   ],
   "source": [
    "order "
   ]
  },
  {
   "cell_type": "code",
   "execution_count": null,
   "id": "007791cc",
   "metadata": {},
   "outputs": [],
   "source": []
  }
 ],
 "metadata": {
  "kernelspec": {
   "display_name": "Python 3 (ipykernel)",
   "language": "python",
   "name": "python3"
  },
  "language_info": {
   "codemirror_mode": {
    "name": "ipython",
    "version": 3
   },
   "file_extension": ".py",
   "mimetype": "text/x-python",
   "name": "python",
   "nbconvert_exporter": "python",
   "pygments_lexer": "ipython3",
   "version": "3.10.10"
  }
 },
 "nbformat": 4,
 "nbformat_minor": 5
}
