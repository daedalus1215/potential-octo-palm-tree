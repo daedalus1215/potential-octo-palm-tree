{
 "cells": [
  {
   "cell_type": "code",
   "execution_count": 2,
   "id": "d07e3a0c",
   "metadata": {},
   "outputs": [],
   "source": [
    "import pandas as pd"
   ]
  },
  {
   "cell_type": "code",
   "execution_count": 3,
   "id": "e6cfe9b7",
   "metadata": {},
   "outputs": [],
   "source": [
    "my_dict = {\n",
    "    \"Name\":[\"Phelps, Michael\",\"Latynina, Larisa\",\"Andrianov, Nikolay\",\"Mangiarotti, Edoardo\", \"Ono, Takashi\"],\n",
    "    \"Nationality\": [\"Argentina\", \"Portugal\", \"Brasil\", \"France\", \"Germany\"],\n",
    "    \"World Champion\": [False, False, False, True, True],\n",
    "    \"Height\": [1.70, 1.87, 1.75, 1.78, 1.93],\n",
    "    \"Goals_2018\": [45, 44, 28, 21, 0]\n",
    "}"
   ]
  },
  {
   "cell_type": "code",
   "execution_count": 4,
   "id": "7e7da305",
   "metadata": {},
   "outputs": [
    {
     "data": {
      "text/html": [
       "<div>\n",
       "<style scoped>\n",
       "    .dataframe tbody tr th:only-of-type {\n",
       "        vertical-align: middle;\n",
       "    }\n",
       "\n",
       "    .dataframe tbody tr th {\n",
       "        vertical-align: top;\n",
       "    }\n",
       "\n",
       "    .dataframe thead th {\n",
       "        text-align: right;\n",
       "    }\n",
       "</style>\n",
       "<table border=\"1\" class=\"dataframe\">\n",
       "  <thead>\n",
       "    <tr style=\"text-align: right;\">\n",
       "      <th></th>\n",
       "      <th>Name</th>\n",
       "      <th>Nationality</th>\n",
       "      <th>World Champion</th>\n",
       "      <th>Height</th>\n",
       "      <th>Goals_2018</th>\n",
       "    </tr>\n",
       "  </thead>\n",
       "  <tbody>\n",
       "    <tr>\n",
       "      <th>0</th>\n",
       "      <td>Phelps, Michael</td>\n",
       "      <td>Argentina</td>\n",
       "      <td>False</td>\n",
       "      <td>1.70</td>\n",
       "      <td>45</td>\n",
       "    </tr>\n",
       "    <tr>\n",
       "      <th>1</th>\n",
       "      <td>Latynina, Larisa</td>\n",
       "      <td>Portugal</td>\n",
       "      <td>False</td>\n",
       "      <td>1.87</td>\n",
       "      <td>44</td>\n",
       "    </tr>\n",
       "    <tr>\n",
       "      <th>2</th>\n",
       "      <td>Andrianov, Nikolay</td>\n",
       "      <td>Brasil</td>\n",
       "      <td>False</td>\n",
       "      <td>1.75</td>\n",
       "      <td>28</td>\n",
       "    </tr>\n",
       "    <tr>\n",
       "      <th>3</th>\n",
       "      <td>Mangiarotti, Edoardo</td>\n",
       "      <td>France</td>\n",
       "      <td>True</td>\n",
       "      <td>1.78</td>\n",
       "      <td>21</td>\n",
       "    </tr>\n",
       "    <tr>\n",
       "      <th>4</th>\n",
       "      <td>Ono, Takashi</td>\n",
       "      <td>Germany</td>\n",
       "      <td>True</td>\n",
       "      <td>1.93</td>\n",
       "      <td>0</td>\n",
       "    </tr>\n",
       "  </tbody>\n",
       "</table>\n",
       "</div>"
      ],
      "text/plain": [
       "                   Name Nationality  World Champion  Height  Goals_2018\n",
       "0       Phelps, Michael   Argentina           False    1.70          45\n",
       "1      Latynina, Larisa    Portugal           False    1.87          44\n",
       "2    Andrianov, Nikolay      Brasil           False    1.75          28\n",
       "3  Mangiarotti, Edoardo      France            True    1.78          21\n",
       "4          Ono, Takashi     Germany            True    1.93           0"
      ]
     },
     "execution_count": 4,
     "metadata": {},
     "output_type": "execute_result"
    }
   ],
   "source": [
    "df = pd.DataFrame(data = my_dict)\n",
    "df"
   ]
  },
  {
   "cell_type": "code",
   "execution_count": 5,
   "id": "32375aaf",
   "metadata": {},
   "outputs": [],
   "source": [
    "df.set_index(\"Name\", inplace = True) # omitting a cell"
   ]
  },
  {
   "cell_type": "code",
   "execution_count": 6,
   "id": "9d932d18",
   "metadata": {},
   "outputs": [
    {
     "data": {
      "text/html": [
       "<div>\n",
       "<style scoped>\n",
       "    .dataframe tbody tr th:only-of-type {\n",
       "        vertical-align: middle;\n",
       "    }\n",
       "\n",
       "    .dataframe tbody tr th {\n",
       "        vertical-align: top;\n",
       "    }\n",
       "\n",
       "    .dataframe thead th {\n",
       "        text-align: right;\n",
       "    }\n",
       "</style>\n",
       "<table border=\"1\" class=\"dataframe\">\n",
       "  <thead>\n",
       "    <tr style=\"text-align: right;\">\n",
       "      <th></th>\n",
       "      <th>Nationality</th>\n",
       "      <th>World Champion</th>\n",
       "      <th>Height</th>\n",
       "      <th>Goals_2018</th>\n",
       "    </tr>\n",
       "    <tr>\n",
       "      <th>Name</th>\n",
       "      <th></th>\n",
       "      <th></th>\n",
       "      <th></th>\n",
       "      <th></th>\n",
       "    </tr>\n",
       "  </thead>\n",
       "  <tbody>\n",
       "    <tr>\n",
       "      <th>Phelps, Michael</th>\n",
       "      <td>Argentina</td>\n",
       "      <td>False</td>\n",
       "      <td>1.70</td>\n",
       "      <td>45</td>\n",
       "    </tr>\n",
       "    <tr>\n",
       "      <th>Latynina, Larisa</th>\n",
       "      <td>Portugal</td>\n",
       "      <td>False</td>\n",
       "      <td>1.87</td>\n",
       "      <td>44</td>\n",
       "    </tr>\n",
       "    <tr>\n",
       "      <th>Andrianov, Nikolay</th>\n",
       "      <td>Brasil</td>\n",
       "      <td>False</td>\n",
       "      <td>1.75</td>\n",
       "      <td>28</td>\n",
       "    </tr>\n",
       "    <tr>\n",
       "      <th>Mangiarotti, Edoardo</th>\n",
       "      <td>France</td>\n",
       "      <td>True</td>\n",
       "      <td>1.78</td>\n",
       "      <td>21</td>\n",
       "    </tr>\n",
       "    <tr>\n",
       "      <th>Ono, Takashi</th>\n",
       "      <td>Germany</td>\n",
       "      <td>True</td>\n",
       "      <td>1.93</td>\n",
       "      <td>0</td>\n",
       "    </tr>\n",
       "  </tbody>\n",
       "</table>\n",
       "</div>"
      ],
      "text/plain": [
       "                     Nationality  World Champion  Height  Goals_2018\n",
       "Name                                                                \n",
       "Phelps, Michael        Argentina           False    1.70          45\n",
       "Latynina, Larisa        Portugal           False    1.87          44\n",
       "Andrianov, Nikolay        Brasil           False    1.75          28\n",
       "Mangiarotti, Edoardo      France            True    1.78          21\n",
       "Ono, Takashi             Germany            True    1.93           0"
      ]
     },
     "execution_count": 6,
     "metadata": {},
     "output_type": "execute_result"
    }
   ],
   "source": [
    "df"
   ]
  },
  {
   "cell_type": "code",
   "execution_count": 7,
   "id": "ffc45cf5",
   "metadata": {},
   "outputs": [
    {
     "data": {
      "text/plain": [
       "Nationality       Argentina\n",
       "World Champion        False\n",
       "Height                  1.7\n",
       "Goals_2018               45\n",
       "Name: Phelps, Michael, dtype: object"
      ]
     },
     "execution_count": 7,
     "metadata": {},
     "output_type": "execute_result"
    }
   ],
   "source": [
    "df.loc[\"Phelps, Michael\"]"
   ]
  },
  {
   "cell_type": "code",
   "execution_count": 8,
   "id": "6953314b",
   "metadata": {},
   "outputs": [
    {
     "name": "stdout",
     "output_type": "stream",
     "text": [
      "<class 'pandas.core.frame.DataFrame'>\n",
      "Index: 5 entries, Phelps, Michael to Ono, Takashi\n",
      "Data columns (total 4 columns):\n",
      " #   Column          Non-Null Count  Dtype  \n",
      "---  ------          --------------  -----  \n",
      " 0   Nationality     5 non-null      object \n",
      " 1   World Champion  5 non-null      bool   \n",
      " 2   Height          5 non-null      float64\n",
      " 3   Goals_2018      5 non-null      int64  \n",
      "dtypes: bool(1), float64(1), int64(1), object(1)\n",
      "memory usage: 337.0+ bytes\n"
     ]
    }
   ],
   "source": [
    "df.info()"
   ]
  },
  {
   "cell_type": "code",
   "execution_count": 11,
   "id": "1771ea72",
   "metadata": {},
   "outputs": [],
   "source": [
    "df.Height = pd.to_numeric(df.Height, errors=\"coerce\")"
   ]
  },
  {
   "cell_type": "code",
   "execution_count": 12,
   "id": "841af2a7",
   "metadata": {},
   "outputs": [
    {
     "name": "stdout",
     "output_type": "stream",
     "text": [
      "<class 'pandas.core.frame.DataFrame'>\n",
      "Index: 5 entries, Phelps, Michael to Ono, Takashi\n",
      "Data columns (total 4 columns):\n",
      " #   Column          Non-Null Count  Dtype  \n",
      "---  ------          --------------  -----  \n",
      " 0   Nationality     5 non-null      object \n",
      " 1   World Champion  5 non-null      bool   \n",
      " 2   Height          5 non-null      float64\n",
      " 3   Goals_2018      5 non-null      int64  \n",
      "dtypes: bool(1), float64(1), int64(1), object(1)\n",
      "memory usage: 337.0+ bytes\n"
     ]
    }
   ],
   "source": [
    "df.info()"
   ]
  },
  {
   "cell_type": "code",
   "execution_count": null,
   "id": "39915d81",
   "metadata": {},
   "outputs": [],
   "source": []
  }
 ],
 "metadata": {
  "kernelspec": {
   "display_name": "Python 3 (ipykernel)",
   "language": "python",
   "name": "python3"
  },
  "language_info": {
   "codemirror_mode": {
    "name": "ipython",
    "version": 3
   },
   "file_extension": ".py",
   "mimetype": "text/x-python",
   "name": "python",
   "nbconvert_exporter": "python",
   "pygments_lexer": "ipython3",
   "version": "3.10.10"
  }
 },
 "nbformat": 4,
 "nbformat_minor": 5
}
