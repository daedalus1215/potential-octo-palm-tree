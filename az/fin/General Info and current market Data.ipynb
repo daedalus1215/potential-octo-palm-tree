{
 "cells": [
  {
   "cell_type": "code",
   "execution_count": 5,
   "id": "73b14def",
   "metadata": {},
   "outputs": [],
   "source": [
    "import json\n",
    "from binance import Client\n",
    "import pandas as pd"
   ]
  },
  {
   "cell_type": "code",
   "execution_count": 2,
   "id": "9209c8a5",
   "metadata": {},
   "outputs": [],
   "source": [
    "def get_api_essentals(data):\n",
    "    return data['api_key'], data['api_secret']\n",
    "\n",
    "\n",
    "with open('./settings.json', 'r') as file:\n",
    "    data = json.load(file)\n",
    "\n",
    "api_key, api_secret = get_api_essentals(data)\n"
   ]
  },
  {
   "cell_type": "code",
   "execution_count": 3,
   "id": "2ad868a8",
   "metadata": {},
   "outputs": [],
   "source": [
    "client = Client(api_key=api_key, api_secret=api_secret, tld=\"us\")"
   ]
  },
  {
   "cell_type": "code",
   "execution_count": 6,
   "id": "3fd6c8be",
   "metadata": {},
   "outputs": [
    {
     "name": "stdout",
     "output_type": "stream",
     "text": [
      "[{'asset': 'BTC', 'free': '0.06874731', 'locked': '0.00000000'}, {'asset': 'ETH', 'free': '0.00000438', 'locked': '0.00000000'}, {'asset': 'USD4', 'free': '0.0000', 'locked': '0.0000'}, {'asset': 'XRP', 'free': '0.00000000', 'locked': '0.00000000'}, {'asset': 'USDT', 'free': '0.00000000', 'locked': '0.00000000'}, {'asset': 'BCH', 'free': '0.00000000', 'locked': '0.00000000'}, {'asset': 'LTC', 'free': '0.00000000', 'locked': '0.00000000'}, {'asset': 'ADA', 'free': '0.00000000', 'locked': '0.00000000'}, {'asset': 'XLM', 'free': '0.00000000', 'locked': '0.00000000'}, {'asset': 'BAT', 'free': '0.00000000', 'locked': '0.00000000'}, {'asset': 'ETC', 'free': '0.00000000', 'locked': '0.00000000'}, {'asset': 'ZRX', 'free': '0.00000000', 'locked': '0.00000000'}, {'asset': 'BNB', 'free': '0.00000000', 'locked': '0.00000000'}, {'asset': 'LINK', 'free': '0.00000000', 'locked': '0.00000000'}, {'asset': 'REP', 'free': '0.00000000', 'locked': '0.00000000'}, {'asset': 'RVN', 'free': '0.00000000', 'locked': '0.00000000'}, {'asset': 'DASH', 'free': '0.00000000', 'locked': '0.00000000'}, {'asset': 'ZEC', 'free': '0.00000000', 'locked': '0.00000000'}, {'asset': 'ALGO', 'free': '0.00000000', 'locked': '0.00000000'}, {'asset': 'IOTA', 'free': '0.00000000', 'locked': '0.00000000'}, {'asset': 'BUSD', 'free': '0.00000000', 'locked': '0.00000000'}, {'asset': 'DOGE', 'free': '0.00000000', 'locked': '0.00000000'}, {'asset': 'WAVES', 'free': '0.00000000', 'locked': '0.00000000'}, {'asset': 'ATOM', 'free': '0.00000000', 'locked': '0.00000000'}, {'asset': 'NEO', 'free': '0.00000000', 'locked': '0.00000000'}, {'asset': 'VET', 'free': '0.00000000', 'locked': '0.00000000'}, {'asset': 'QTUM', 'free': '0.00000000', 'locked': '0.00000000'}, {'asset': 'NANO', 'free': '0.00000000', 'locked': '0.00000000'}, {'asset': 'EOS', 'free': '0.00000000', 'locked': '0.00000000'}, {'asset': 'ICX', 'free': '0.00000000', 'locked': '0.00000000'}, {'asset': 'ENJ', 'free': '0.00000000', 'locked': '0.00000000'}, {'asset': 'ONT', 'free': '0.00000000', 'locked': '0.00000000'}, {'asset': 'ZIL', 'free': '0.00000000', 'locked': '0.00000000'}, {'asset': 'USDC', 'free': '0.00000000', 'locked': '0.00000000'}, {'asset': 'XTZ', 'free': '0.01699097', 'locked': '0.00000000'}, {'asset': 'HBAR', 'free': '0.00000000', 'locked': '0.00000000'}, {'asset': 'OMG', 'free': '0.00000000', 'locked': '0.00000000'}, {'asset': 'MATIC', 'free': '0.00000000', 'locked': '0.00000000'}, {'asset': 'ONE', 'free': '0.01710000', 'locked': '0.00000000'}, {'asset': 'VTHO', 'free': '0.00000000', 'locked': '0.00000000'}, {'asset': 'KNC', 'free': '0.00000000', 'locked': '0.00000000'}, {'asset': 'COMP', 'free': '0.00000000', 'locked': '0.00000000'}, {'asset': 'REN', 'free': '0.00000000', 'locked': '0.00000000'}, {'asset': 'MANA', 'free': '0.00000000', 'locked': '0.00000000'}, {'asset': 'HNT', 'free': '0.00000000', 'locked': '0.00000000'}, {'asset': 'MKR', 'free': '0.00000000', 'locked': '0.00000000'}, {'asset': 'DAI', 'free': '0.00000000', 'locked': '0.00000000'}, {'asset': 'BAND', 'free': '0.00000000', 'locked': '0.00000000'}, {'asset': 'STMX', 'free': '0.00000000', 'locked': '0.00000000'}, {'asset': 'STORJ', 'free': '0.00000000', 'locked': '0.00000000'}, {'asset': 'SOL', 'free': '0.00000000', 'locked': '0.00000000'}, {'asset': 'UNI', 'free': '0.00000000', 'locked': '0.00000000'}, {'asset': 'EGLD', 'free': '0.00000000', 'locked': '0.00000000'}, {'asset': 'PAXG', 'free': '0.00000000', 'locked': '0.00000000'}, {'asset': 'OXT', 'free': '0.00000000', 'locked': '0.00000000'}, {'asset': 'ZEN', 'free': '0.00000000', 'locked': '0.00000000'}, {'asset': 'FIL', 'free': '0.00000000', 'locked': '0.00000000'}, {'asset': 'AAVE', 'free': '0.00000000', 'locked': '0.00000000'}, {'asset': 'GRT', 'free': '0.00000000', 'locked': '0.00000000'}, {'asset': 'SUSHI', 'free': '0.00000000', 'locked': '0.00000000'}, {'asset': 'AMP', 'free': '0.00000000', 'locked': '0.00000000'}, {'asset': 'ANKR', 'free': '0.00000000', 'locked': '0.00000000'}, {'asset': 'SHIB', 'free': '0.00', 'locked': '0.00'}, {'asset': 'CRV', 'free': '0.00000000', 'locked': '0.00000000'}, {'asset': 'AVAX', 'free': '0.00000000', 'locked': '0.00000000'}, {'asset': 'AXS', 'free': '0.00000000', 'locked': '0.00000000'}, {'asset': 'DOT', 'free': '0.00000000', 'locked': '0.00000000'}, {'asset': 'CTSI', 'free': '0.00000000', 'locked': '0.00000000'}, {'asset': 'YFI', 'free': '0.00000000', 'locked': '0.00000000'}, {'asset': '1INCH', 'free': '0.00000000', 'locked': '0.00000000'}, {'asset': 'FTM', 'free': '0.00000000', 'locked': '0.00000000'}, {'asset': 'NEAR', 'free': '0.00000000', 'locked': '0.00000000'}, {'asset': 'LRC', 'free': '0.00000000', 'locked': '0.00000000'}, {'asset': 'KSHIB', 'free': '0.0000', 'locked': '0.0000'}, {'asset': 'LPT', 'free': '0.00000000', 'locked': '0.00000000'}, {'asset': 'SLP', 'free': '0.00000000', 'locked': '0.00000000'}, {'asset': 'POLY', 'free': '0.00000000', 'locked': '0.00000000'}, {'asset': 'NMR', 'free': '0.00000000', 'locked': '0.00000000'}, {'asset': 'ANT', 'free': '0.00000000', 'locked': '0.00000000'}, {'asset': 'AUDIO', 'free': '0.00000000', 'locked': '0.00000000'}, {'asset': 'GALA', 'free': '0.00000000', 'locked': '0.00000000'}, {'asset': 'CHZ', 'free': '0.00000000', 'locked': '0.00000000'}, {'asset': 'ENS', 'free': '0.00000000', 'locked': '0.00000000'}, {'asset': 'OGN', 'free': '0.00000000', 'locked': '0.00000000'}, {'asset': 'XNO', 'free': '0.00000000', 'locked': '0.00000000'}, {'asset': 'TLM', 'free': '0.00000000', 'locked': '0.00000000'}, {'asset': 'SNX', 'free': '0.00000000', 'locked': '0.00000000'}, {'asset': 'APE', 'free': '0.00000000', 'locked': '0.00000000'}, {'asset': 'REQ', 'free': '0.00000000', 'locked': '0.00000000'}, {'asset': 'WBTC', 'free': '0.00000000', 'locked': '0.00000000'}, {'asset': 'VOXEL', 'free': '0.00000000', 'locked': '0.00000000'}, {'asset': 'TRX', 'free': '0.00000000', 'locked': '0.00000000'}, {'asset': 'FLOW', 'free': '0.00000000', 'locked': '0.00000000'}, {'asset': 'FLUX', 'free': '0.00000000', 'locked': '0.00000000'}, {'asset': 'BICO', 'free': '0.00000000', 'locked': '0.00000000'}, {'asset': 'SPELL', 'free': '0.00000000', 'locked': '0.00000000'}, {'asset': 'COTI', 'free': '0.00000000', 'locked': '0.00000000'}, {'asset': 'API3', 'free': '0.00000000', 'locked': '0.00000000'}, {'asset': 'CELR', 'free': '0.00000000', 'locked': '0.00000000'}, {'asset': 'IMX', 'free': '0.00000000', 'locked': '0.00000000'}, {'asset': 'JASMY', 'free': '0.00000000', 'locked': '0.00000000'}, {'asset': 'UST', 'free': '0.00000000', 'locked': '0.00000000'}, {'asset': 'ALICE', 'free': '0.00000000', 'locked': '0.00000000'}, {'asset': 'DAR', 'free': '0.00000000', 'locked': '0.00000000'}, {'asset': 'RNDR', 'free': '0.00000000', 'locked': '0.00000000'}, {'asset': 'T', 'free': '0.00000000', 'locked': '0.00000000'}, {'asset': 'RLC', 'free': '0.00000000', 'locked': '0.00000000'}, {'asset': 'THETA', 'free': '0.00000000', 'locked': '0.00000000'}, {'asset': 'BNT', 'free': '0.00000000', 'locked': '0.00000000'}, {'asset': 'TFUEL', 'free': '0.00000000', 'locked': '0.00000000'}, {'asset': 'GTC', 'free': '0.00000000', 'locked': '0.00000000'}, {'asset': 'LOKA', 'free': '0.00000000', 'locked': '0.00000000'}, {'asset': 'SRM', 'free': '0.00000000', 'locked': '0.00000000'}, {'asset': 'ALPINE', 'free': '0.00000000', 'locked': '0.00000000'}, {'asset': 'SANTOS', 'free': '0.00000000', 'locked': '0.00000000'}, {'asset': 'PORTO', 'free': '0.00000000', 'locked': '0.00000000'}, {'asset': 'LAZIO', 'free': '0.00000000', 'locked': '0.00000000'}, {'asset': 'SKL', 'free': '0.00000000', 'locked': '0.00000000'}, {'asset': 'OCEAN', 'free': '0.00000000', 'locked': '0.00000000'}, {'asset': 'KSM', 'free': '0.00000000', 'locked': '0.00000000'}, {'asset': 'VITE', 'free': '0.00000000', 'locked': '0.00000000'}, {'asset': 'ROSE', 'free': '0.00000000', 'locked': '0.00000000'}, {'asset': 'BOND', 'free': '0.00000000', 'locked': '0.00000000'}, {'asset': 'WAXP', 'free': '0.00000000', 'locked': '0.00000000'}, {'asset': 'ICP', 'free': '0.00000000', 'locked': '0.00000000'}, {'asset': 'FET', 'free': '0.00000000', 'locked': '0.00000000'}, {'asset': 'LTO', 'free': '0.00000000', 'locked': '0.00000000'}, {'asset': 'RAD', 'free': '0.00000000', 'locked': '0.00000000'}, {'asset': 'RARE', 'free': '0.00000000', 'locked': '0.00000000'}, {'asset': 'CELO', 'free': '0.00000000', 'locked': '0.00000000'}, {'asset': 'ACH', 'free': '0.00000000', 'locked': '0.00000000'}, {'asset': 'OP', 'free': '0.00000000', 'locked': '0.00000000'}, {'asset': 'CLV', 'free': '0.00000000', 'locked': '0.00000000'}, {'asset': 'FORTH', 'free': '0.00000000', 'locked': '0.00000000'}, {'asset': 'KDA', 'free': '0.00000000', 'locked': '0.00000000'}, {'asset': 'SYS', 'free': '0.00000000', 'locked': '0.00000000'}, {'asset': 'ILV', 'free': '0.00000000', 'locked': '0.00000000'}, {'asset': 'REEF', 'free': '0.00000000', 'locked': '0.00000000'}, {'asset': 'LDO', 'free': '0.00000000', 'locked': '0.00000000'}, {'asset': 'TUSD', 'free': '0.00000000', 'locked': '0.00000000'}, {'asset': 'LSK', 'free': '0.00000000', 'locked': '0.00000000'}, {'asset': 'POND', 'free': '0.00000000', 'locked': '0.00000000'}, {'asset': 'DGB', 'free': '0.00000000', 'locked': '0.00000000'}, {'asset': 'BAL', 'free': '0.00000000', 'locked': '0.00000000'}, {'asset': 'GLM', 'free': '0.00000000', 'locked': '0.00000000'}, {'asset': 'GAL', 'free': '0.00000000', 'locked': '0.00000000'}, {'asset': 'ASTR', 'free': '0.00000000', 'locked': '0.00000000'}, {'asset': 'BTRST', 'free': '0.00000000', 'locked': '0.00000000'}, {'asset': 'QNT', 'free': '0.00000000', 'locked': '0.00000000'}, {'asset': 'SAND', 'free': '0.00000000', 'locked': '0.00000000'}, {'asset': 'KAVA', 'free': '0.00000000', 'locked': '0.00000000'}, {'asset': 'POLYX', 'free': '0.00000000', 'locked': '0.00000000'}, {'asset': 'AXL', 'free': '0.00000000', 'locked': '0.00000000'}, {'asset': 'STG', 'free': '0.00000000', 'locked': '0.00000000'}, {'asset': 'APT', 'free': '0.00000000', 'locked': '0.00000000'}, {'asset': 'MASK', 'free': '0.00000000', 'locked': '0.00000000'}, {'asset': 'LOOM', 'free': '0.00000000', 'locked': '0.00000000'}, {'asset': 'BOSON', 'free': '0.00000000', 'locked': '0.00000000'}, {'asset': 'MXC', 'free': '0.00000000', 'locked': '0.00000000'}, {'asset': 'PROM', 'free': '0.00000000', 'locked': '0.00000000'}, {'asset': 'DIA', 'free': '0.00000000', 'locked': '0.00000000'}, {'asset': 'JAM', 'free': '0.00000000', 'locked': '0.00000000'}, {'asset': 'USD', 'free': '0.00317752', 'locked': '0.00000000'}]\n"
     ]
    }
   ],
   "source": [
    "account = client.get_account()\n",
    "balances = account[\"balances\"]\n",
    "print(balances)\n"
   ]
  },
  {
   "cell_type": "code",
   "execution_count": 7,
   "id": "b98c47a9",
   "metadata": {},
   "outputs": [
    {
     "name": "stdout",
     "output_type": "stream",
     "text": [
      "<class 'pandas.core.frame.DataFrame'>\n",
      "RangeIndex: 163 entries, 0 to 162\n",
      "Data columns (total 3 columns):\n",
      " #   Column  Non-Null Count  Dtype \n",
      "---  ------  --------------  ----- \n",
      " 0   asset   163 non-null    object\n",
      " 1   free    163 non-null    object\n",
      " 2   locked  163 non-null    object\n",
      "dtypes: object(3)\n",
      "memory usage: 3.9+ KB\n"
     ]
    }
   ],
   "source": [
    "df = pd.DataFrame(balances)\n",
    "df.info()"
   ]
  },
  {
   "cell_type": "code",
   "execution_count": 8,
   "id": "c20b1649",
   "metadata": {},
   "outputs": [
    {
     "data": {
      "text/html": [
       "<div>\n",
       "<style scoped>\n",
       "    .dataframe tbody tr th:only-of-type {\n",
       "        vertical-align: middle;\n",
       "    }\n",
       "\n",
       "    .dataframe tbody tr th {\n",
       "        vertical-align: top;\n",
       "    }\n",
       "\n",
       "    .dataframe thead th {\n",
       "        text-align: right;\n",
       "    }\n",
       "</style>\n",
       "<table border=\"1\" class=\"dataframe\">\n",
       "  <thead>\n",
       "    <tr style=\"text-align: right;\">\n",
       "      <th></th>\n",
       "      <th>asset</th>\n",
       "      <th>free</th>\n",
       "      <th>locked</th>\n",
       "    </tr>\n",
       "  </thead>\n",
       "  <tbody>\n",
       "    <tr>\n",
       "      <th>0</th>\n",
       "      <td>BTC</td>\n",
       "      <td>0.06874731</td>\n",
       "      <td>0.00000000</td>\n",
       "    </tr>\n",
       "    <tr>\n",
       "      <th>1</th>\n",
       "      <td>ETH</td>\n",
       "      <td>0.00000438</td>\n",
       "      <td>0.00000000</td>\n",
       "    </tr>\n",
       "    <tr>\n",
       "      <th>2</th>\n",
       "      <td>USD4</td>\n",
       "      <td>0.0000</td>\n",
       "      <td>0.0000</td>\n",
       "    </tr>\n",
       "    <tr>\n",
       "      <th>3</th>\n",
       "      <td>XRP</td>\n",
       "      <td>0.00000000</td>\n",
       "      <td>0.00000000</td>\n",
       "    </tr>\n",
       "    <tr>\n",
       "      <th>4</th>\n",
       "      <td>USDT</td>\n",
       "      <td>0.00000000</td>\n",
       "      <td>0.00000000</td>\n",
       "    </tr>\n",
       "    <tr>\n",
       "      <th>...</th>\n",
       "      <td>...</td>\n",
       "      <td>...</td>\n",
       "      <td>...</td>\n",
       "    </tr>\n",
       "    <tr>\n",
       "      <th>158</th>\n",
       "      <td>MXC</td>\n",
       "      <td>0.00000000</td>\n",
       "      <td>0.00000000</td>\n",
       "    </tr>\n",
       "    <tr>\n",
       "      <th>159</th>\n",
       "      <td>PROM</td>\n",
       "      <td>0.00000000</td>\n",
       "      <td>0.00000000</td>\n",
       "    </tr>\n",
       "    <tr>\n",
       "      <th>160</th>\n",
       "      <td>DIA</td>\n",
       "      <td>0.00000000</td>\n",
       "      <td>0.00000000</td>\n",
       "    </tr>\n",
       "    <tr>\n",
       "      <th>161</th>\n",
       "      <td>JAM</td>\n",
       "      <td>0.00000000</td>\n",
       "      <td>0.00000000</td>\n",
       "    </tr>\n",
       "    <tr>\n",
       "      <th>162</th>\n",
       "      <td>USD</td>\n",
       "      <td>0.00317752</td>\n",
       "      <td>0.00000000</td>\n",
       "    </tr>\n",
       "  </tbody>\n",
       "</table>\n",
       "<p>163 rows × 3 columns</p>\n",
       "</div>"
      ],
      "text/plain": [
       "    asset        free      locked\n",
       "0     BTC  0.06874731  0.00000000\n",
       "1     ETH  0.00000438  0.00000000\n",
       "2    USD4      0.0000      0.0000\n",
       "3     XRP  0.00000000  0.00000000\n",
       "4    USDT  0.00000000  0.00000000\n",
       "..    ...         ...         ...\n",
       "158   MXC  0.00000000  0.00000000\n",
       "159  PROM  0.00000000  0.00000000\n",
       "160   DIA  0.00000000  0.00000000\n",
       "161   JAM  0.00000000  0.00000000\n",
       "162   USD  0.00317752  0.00000000\n",
       "\n",
       "[163 rows x 3 columns]"
      ]
     },
     "execution_count": 8,
     "metadata": {},
     "output_type": "execute_result"
    }
   ],
   "source": [
    "df"
   ]
  },
  {
   "cell_type": "code",
   "execution_count": 9,
   "id": "48081fd0",
   "metadata": {},
   "outputs": [
    {
     "data": {
      "text/html": [
       "<div>\n",
       "<style scoped>\n",
       "    .dataframe tbody tr th:only-of-type {\n",
       "        vertical-align: middle;\n",
       "    }\n",
       "\n",
       "    .dataframe tbody tr th {\n",
       "        vertical-align: top;\n",
       "    }\n",
       "\n",
       "    .dataframe thead th {\n",
       "        text-align: right;\n",
       "    }\n",
       "</style>\n",
       "<table border=\"1\" class=\"dataframe\">\n",
       "  <thead>\n",
       "    <tr style=\"text-align: right;\">\n",
       "      <th></th>\n",
       "      <th>asset</th>\n",
       "      <th>free</th>\n",
       "      <th>locked</th>\n",
       "    </tr>\n",
       "  </thead>\n",
       "  <tbody>\n",
       "    <tr>\n",
       "      <th>0</th>\n",
       "      <td>BTC</td>\n",
       "      <td>0.068747</td>\n",
       "      <td>0.0</td>\n",
       "    </tr>\n",
       "    <tr>\n",
       "      <th>1</th>\n",
       "      <td>ETH</td>\n",
       "      <td>0.000004</td>\n",
       "      <td>0.0</td>\n",
       "    </tr>\n",
       "    <tr>\n",
       "      <th>34</th>\n",
       "      <td>XTZ</td>\n",
       "      <td>0.016991</td>\n",
       "      <td>0.0</td>\n",
       "    </tr>\n",
       "    <tr>\n",
       "      <th>38</th>\n",
       "      <td>ONE</td>\n",
       "      <td>0.017100</td>\n",
       "      <td>0.0</td>\n",
       "    </tr>\n",
       "    <tr>\n",
       "      <th>162</th>\n",
       "      <td>USD</td>\n",
       "      <td>0.003178</td>\n",
       "      <td>0.0</td>\n",
       "    </tr>\n",
       "  </tbody>\n",
       "</table>\n",
       "</div>"
      ],
      "text/plain": [
       "    asset      free  locked\n",
       "0     BTC  0.068747     0.0\n",
       "1     ETH  0.000004     0.0\n",
       "34    XTZ  0.016991     0.0\n",
       "38    ONE  0.017100     0.0\n",
       "162   USD  0.003178     0.0"
      ]
     },
     "execution_count": 9,
     "metadata": {},
     "output_type": "execute_result"
    }
   ],
   "source": [
    "df.free = pd.to_numeric(df.free, errors=\"coerce\")\n",
    "df.locked = pd.to_numeric(df.locked, errors=\"coerce\")\n",
    "df.loc[df.free > 0]"
   ]
  },
  {
   "cell_type": "code",
   "execution_count": 10,
   "id": "0a30ef81",
   "metadata": {},
   "outputs": [
    {
     "name": "stdout",
     "output_type": "stream",
     "text": [
      "{'asset': 'BTC', 'free': '0.06874731', 'locked': '0.00000000'}\n",
      "{'asset': 'ETH', 'free': '0.00000438', 'locked': '0.00000000'}\n"
     ]
    },
    {
     "data": {
      "text/plain": [
       "0.00317752"
      ]
     },
     "execution_count": 10,
     "metadata": {},
     "output_type": "execute_result"
    }
   ],
   "source": [
    "print(client.get_asset_balance(asset=\"BTC\"))\n",
    "print(client.get_asset_balance(asset=\"ETH\"))\n",
    "float(client.get_asset_balance(asset=\"USD\")[\"free\"])"
   ]
  },
  {
   "cell_type": "code",
   "execution_count": 11,
   "id": "5975e703",
   "metadata": {},
   "outputs": [
    {
     "name": "stdout",
     "output_type": "stream",
     "text": [
      "{'symbol': 'BTCUSDT', 'price': '24057.21000000'}\n",
      "{'mins': 5, 'price': '24099.29584028'}\n"
     ]
    }
   ],
   "source": [
    "print(client.get_symbol_ticker(symbol=\"BTCUSDT\"))\n",
    "print(client.get_avg_price(symbol=\"BTCUSDT\"))\n",
    "df = pd.DataFrame(client.get_all_tickers())"
   ]
  },
  {
   "cell_type": "code",
   "execution_count": 12,
   "id": "a8e69163",
   "metadata": {},
   "outputs": [
    {
     "data": {
      "text/html": [
       "<div>\n",
       "<style scoped>\n",
       "    .dataframe tbody tr th:only-of-type {\n",
       "        vertical-align: middle;\n",
       "    }\n",
       "\n",
       "    .dataframe tbody tr th {\n",
       "        vertical-align: top;\n",
       "    }\n",
       "\n",
       "    .dataframe thead th {\n",
       "        text-align: right;\n",
       "    }\n",
       "</style>\n",
       "<table border=\"1\" class=\"dataframe\">\n",
       "  <thead>\n",
       "    <tr style=\"text-align: right;\">\n",
       "      <th></th>\n",
       "      <th>symbol</th>\n",
       "      <th>price</th>\n",
       "    </tr>\n",
       "  </thead>\n",
       "  <tbody>\n",
       "    <tr>\n",
       "      <th>0</th>\n",
       "      <td>BTCUSD4</td>\n",
       "      <td>22882.5400</td>\n",
       "    </tr>\n",
       "    <tr>\n",
       "      <th>1</th>\n",
       "      <td>ETHUSD4</td>\n",
       "      <td>1626.0300</td>\n",
       "    </tr>\n",
       "    <tr>\n",
       "      <th>2</th>\n",
       "      <td>XRPUSD</td>\n",
       "      <td>0.2970</td>\n",
       "    </tr>\n",
       "    <tr>\n",
       "      <th>3</th>\n",
       "      <td>BCHUSD4</td>\n",
       "      <td>134.2000</td>\n",
       "    </tr>\n",
       "    <tr>\n",
       "      <th>4</th>\n",
       "      <td>LTCUSD4</td>\n",
       "      <td>96.2100</td>\n",
       "    </tr>\n",
       "    <tr>\n",
       "      <th>...</th>\n",
       "      <td>...</td>\n",
       "      <td>...</td>\n",
       "    </tr>\n",
       "    <tr>\n",
       "      <th>499</th>\n",
       "      <td>JAMUSD</td>\n",
       "      <td>0.00250000</td>\n",
       "    </tr>\n",
       "    <tr>\n",
       "      <th>500</th>\n",
       "      <td>PROMUSD</td>\n",
       "      <td>5.34000000</td>\n",
       "    </tr>\n",
       "    <tr>\n",
       "      <th>501</th>\n",
       "      <td>DIAUSD</td>\n",
       "      <td>0.44300000</td>\n",
       "    </tr>\n",
       "    <tr>\n",
       "      <th>502</th>\n",
       "      <td>LOOMUSD</td>\n",
       "      <td>0.05680000</td>\n",
       "    </tr>\n",
       "    <tr>\n",
       "      <th>503</th>\n",
       "      <td>STMXUSD</td>\n",
       "      <td>0.00696600</td>\n",
       "    </tr>\n",
       "  </tbody>\n",
       "</table>\n",
       "<p>504 rows × 2 columns</p>\n",
       "</div>"
      ],
      "text/plain": [
       "      symbol       price\n",
       "0    BTCUSD4  22882.5400\n",
       "1    ETHUSD4   1626.0300\n",
       "2     XRPUSD      0.2970\n",
       "3    BCHUSD4    134.2000\n",
       "4    LTCUSD4     96.2100\n",
       "..       ...         ...\n",
       "499   JAMUSD  0.00250000\n",
       "500  PROMUSD  5.34000000\n",
       "501   DIAUSD  0.44300000\n",
       "502  LOOMUSD  0.05680000\n",
       "503  STMXUSD  0.00696600\n",
       "\n",
       "[504 rows x 2 columns]"
      ]
     },
     "execution_count": 12,
     "metadata": {},
     "output_type": "execute_result"
    }
   ],
   "source": [
    "df"
   ]
  },
  {
   "cell_type": "code",
   "execution_count": 13,
   "id": "0cf703f2",
   "metadata": {},
   "outputs": [
    {
     "name": "stdout",
     "output_type": "stream",
     "text": [
      "       symbol             price\n",
      "0     BTCUSD4        22882.5400\n",
      "6     BTCUSDT    24057.21000000\n",
      "13     ETHBTC        0.06811900\n",
      "14     XRPBTC        0.00000864\n",
      "15     BNBBTC        0.01273860\n",
      "16     LTCBTC        0.00389600\n",
      "17     BCHBTC        0.00585700\n",
      "35    BTCBUSD    24062.15000000\n",
      "65     XTZBTC        0.00005310\n",
      "66     ADABTC        0.00001596\n",
      "96    LINKBTC        0.00031003\n",
      "97     VETBTC        0.00000121\n",
      "98     UNIBTC        0.00028587\n",
      "107   BTCUSDC    24065.01000000\n",
      "124    SOLBTC        0.00100880\n",
      "157    LRCBTC        0.00001710\n",
      "165   POLYBTC        0.00001360\n",
      "166  MATICBTC        0.00005639\n",
      "167    DOTBTC        0.00029430\n",
      "188   MANABTC        0.00002848\n",
      "189   ATOMBTC        0.00056750\n",
      "190   AVAXBTC        0.00085420\n",
      "191   WBTCBTC        0.99950000\n",
      "198    TRXBTC        0.00000285\n",
      "215    BTCUST  1000000.00000000\n",
      "345    BTCDAI    24113.58000000\n",
      "348   DOGEBTC        0.00000348\n",
      "352    BTCUSD    24060.31000000\n",
      "      symbol           price\n",
      "0    BTCUSD4      22882.5400\n",
      "6    BTCUSDT  24057.21000000\n",
      "35   BTCBUSD  24062.15000000\n",
      "107  BTCUSDC  24065.01000000\n",
      "352   BTCUSD  24060.31000000\n",
      "{'symbol': 'BTCUSDT', 'priceChange': '-854.56000000', 'priceChangePercent': '-3.428', 'weightedAvgPrice': '24616.14044521', 'prevClosePrice': '24925.88000000', 'lastPrice': '24073.83000000', 'lastQty': '0.00895400', 'bidPrice': '24062.14000000', 'bidQty': '0.05814000', 'askPrice': '24071.26000000', 'askQty': '0.01816400', 'openPrice': '24928.39000000', 'highPrice': '25242.62000000', 'lowPrice': '23959.23000000', 'volume': '2476.58835400', 'quoteVolume': '60964046.74702703', 'openTime': 1676946457255, 'closeTime': 1677032857255, 'firstId': 19342146, 'lastId': 19400941, 'count': 58796}\n",
      "24928.39\n"
     ]
    }
   ],
   "source": [
    "print(df[df.symbol.str.contains(\"BTC\")])\n",
    "print(df[df.symbol.str.contains(\"BTC\") & df.symbol.str.contains(\"USD\")])"
   ]
  },
  {
   "cell_type": "code",
   "execution_count": 14,
   "id": "e82d0412",
   "metadata": {},
   "outputs": [
    {
     "name": "stdout",
     "output_type": "stream",
     "text": [
      "{'symbol': 'BTCUSDT', 'priceChange': '-843.00000000', 'priceChangePercent': '-3.381', 'weightedAvgPrice': '24615.28746339', 'prevClosePrice': '24933.64000000', 'lastPrice': '24089.12000000', 'lastQty': '0.02911100', 'bidPrice': '24072.38000000', 'bidQty': '0.02002900', 'askPrice': '24081.77000000', 'askQty': '0.09500000', 'openPrice': '24932.12000000', 'highPrice': '25242.62000000', 'lowPrice': '23959.23000000', 'volume': '2476.45536200', 'quoteVolume': '60958660.62587259', 'openTime': 1676946472660, 'closeTime': 1677032872660, 'firstId': 19342198, 'lastId': 19400963, 'count': 58766}\n"
     ]
    }
   ],
   "source": [
    "last24 = client.get_ticker(symbol=\"BTCUSDT\")\n",
    "print(last24)"
   ]
  },
  {
   "cell_type": "code",
   "execution_count": 15,
   "id": "3b90dbd4",
   "metadata": {},
   "outputs": [
    {
     "name": "stdout",
     "output_type": "stream",
     "text": [
      "24932.12\n"
     ]
    }
   ],
   "source": [
    "print(float(last24[\"openPrice\"]))"
   ]
  },
  {
   "cell_type": "code",
   "execution_count": null,
   "id": "2ad718b8",
   "metadata": {},
   "outputs": [],
   "source": []
  }
 ],
 "metadata": {
  "kernelspec": {
   "display_name": "Python 3 (ipykernel)",
   "language": "python",
   "name": "python3"
  },
  "language_info": {
   "codemirror_mode": {
    "name": "ipython",
    "version": 3
   },
   "file_extension": ".py",
   "mimetype": "text/x-python",
   "name": "python",
   "nbconvert_exporter": "python",
   "pygments_lexer": "ipython3",
   "version": "3.10.10"
  }
 },
 "nbformat": 4,
 "nbformat_minor": 5
}
